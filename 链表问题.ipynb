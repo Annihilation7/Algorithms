{
 "cells": [
  {
   "cell_type": "code",
   "execution_count": 1,
   "metadata": {},
   "outputs": [],
   "source": [
    "import math"
   ]
  },
  {
   "cell_type": "code",
   "execution_count": 2,
   "metadata": {},
   "outputs": [],
   "source": [
    "class Node:\n",
    "    def __init__(self, _val, _next=None):\n",
    "        self.val = _val\n",
    "        self.next = _next\n",
    "        \n",
    "    def __eq__(self, other):\n",
    "        return id(self) == id(other)\n",
    "    \n",
    "    def __repr__(self):\n",
    "        return \"{}\".format(self.val)\n",
    "    \n",
    "    \n",
    "def make_node_list(alist):\n",
    "    \"\"\"根据alist中的元素制作一个链表，并返回链表的头节点\"\"\"\n",
    "    dummy_head = Node(-1)\n",
    "    pre_head = dummy_head\n",
    "    for elem in alist:\n",
    "        pre_head.next = Node(elem)\n",
    "        pre_head = pre_head.next\n",
    "    return dummy_head.next\n",
    "\n",
    "\n",
    "def print_node_list(head_node):\n",
    "    if head_node is None:\n",
    "        print(\"empty nodelist!\")\n",
    "        return\n",
    "    cur_node = head_node\n",
    "    while cur_node is not None:\n",
    "        print(cur_node, end=' ')\n",
    "        cur_node = cur_node.next\n",
    "    print()"
   ]
  },
  {
   "cell_type": "markdown",
   "metadata": {},
   "source": [
    "### 题目1：打印两个有序链表的公共部分\n",
    "    - 给定两个有序链表的头指针head1和head2，打印两个链表的公共部分"
   ]
  },
  {
   "cell_type": "code",
   "execution_count": 4,
   "metadata": {},
   "outputs": [
    {
     "name": "stdout",
     "output_type": "stream",
     "text": [
      "5\n",
      "9\n"
     ]
    }
   ],
   "source": [
    "def printCommonPart(head1, head2):\n",
    "    if head1 is None or head2 is None:  # 任意一个为空直接返回\n",
    "        return\n",
    "    node1, node2 = head1, head2\n",
    "    while node1 is not None and node2 is not None:\n",
    "        # 谁小谁往下走，相等就打印，并且要一起往下走，直到有一个为空即可\n",
    "        if node1.val < node2.val:\n",
    "            node1 = node1.next\n",
    "        elif node2.val < node1.val:\n",
    "            node2 = node2.next\n",
    "        else:\n",
    "            print(node1.val)\n",
    "            node1 = node1.next\n",
    "            node2 = node2.next\n",
    "            \n",
    "# test\n",
    "test_list1 = make_node_list([1, 3, 5, 7, 9, 11])\n",
    "test_list2 = make_node_list([-3, 2, 4, 5, 6, 9, 12])\n",
    "printCommonPart(test_list1, test_list2)"
   ]
  },
  {
   "cell_type": "markdown",
   "metadata": {},
   "source": [
    "### 在单链表中删除倒数第k个节点"
   ]
  },
  {
   "cell_type": "code",
   "execution_count": 2,
   "metadata": {},
   "outputs": [
    {
     "name": "stdout",
     "output_type": "stream",
     "text": [
      "1 2 3 4 6 7 \n",
      "2 3 4 5 6 7 \n"
     ]
    }
   ],
   "source": [
    "def removeLastKthNode(head, lastKth):\n",
    "    \"\"\"要理解Kth的含义\"\"\"\n",
    "    cur_node = head\n",
    "    while cur_node is not None:\n",
    "        lastKth -= 1\n",
    "        cur_node = cur_node.next\n",
    "    if lastKth > 0:  # 此时没有满足条件的倒数第k个节点\n",
    "        return None\n",
    "    elif lastKth == 0: # 头节点正好是倒数第k个节点\n",
    "        return head.next\n",
    "    else:  # k < 0\n",
    "        # 重新从头走，让k开始累加到0，此时下一个节点记为要被删除的节点\n",
    "        cur_node = head\n",
    "        lastKth += 1  # 注意要先+1，找个例子一下就懂了\n",
    "        while lastKth < 0:\n",
    "            lastKth += 1\n",
    "            cur_node = cur_node.next\n",
    "        del_node = cur_node.next\n",
    "        cur_node.next = del_node.next\n",
    "        del_node.next = None\n",
    "        return head\n",
    "    \n",
    "\n",
    "# test\n",
    "test_list = make_node_list([1, 2, 3, 4, 5, 6, 7])\n",
    "print_node_list(removeLastKthNode(test_list, 3))\n",
    "test_list = make_node_list([1, 2, 3, 4, 5, 6, 7])  # 正好将头节点删除\n",
    "print_node_list(removeLastKthNode(test_list, 7))"
   ]
  },
  {
   "cell_type": "markdown",
   "metadata": {},
   "source": [
    "### 删除链表的中间节点和a/b处的节点"
   ]
  },
  {
   "cell_type": "code",
   "execution_count": 12,
   "metadata": {},
   "outputs": [
    {
     "name": "stdout",
     "output_type": "stream",
     "text": [
      "7 \n",
      "1 3 4 5 \n"
     ]
    }
   ],
   "source": [
    "def removeMidNode(head):\n",
    "    if head is None or head.next is None:\n",
    "        return head\n",
    "    if head.next.next is None:\n",
    "        return head.next\n",
    "    # 快慢指针法，但是由于是删除中间节点，慢指针要到被删除节点的前一个位置，所以快指针先移动两格就可以了。所以才会有上面的那个判断条件\n",
    "    slow = head\n",
    "    fast = head.next.next\n",
    "    while fast.next is not None and fast.next.next is not None:\n",
    "        slow = slow.next\n",
    "        fast = fast.next.next\n",
    "    del_node = slow.next\n",
    "    slow.next = del_node.next\n",
    "    del_node.next = None\n",
    "    return head\n",
    "\n",
    "\n",
    "def removeByRatio(head, a, b):\n",
    "    \"\"\"求length，然后删除 ceil(a * length / b)即可。\"\"\"\n",
    "    if head is None or a < 1 or a > b:\n",
    "        return head  # 等于0,大于1都不删除节点\n",
    "    \n",
    "    length = 0\n",
    "    cur_node = head\n",
    "    while cur_node is not None:\n",
    "        length += 1\n",
    "        cur_node = cur_node.next\n",
    "    \n",
    "    del_node_count = int((a * length) / b + 1)  # ceil, from idx=1\n",
    "    del_node_count = math.ceil(a * length / b)\n",
    "    if del_node_count == 1:  # 由于这里没设dummy_head，删除第一个节点的话就有点特殊\n",
    "        head = head.next\n",
    "    else:\n",
    "        pre_node = head\n",
    "        while del_node_count > 2:\n",
    "            pre_node = pre_node.next\n",
    "            del_node_count -= 1\n",
    "        del_node = pre_node.next\n",
    "        pre_node.next = del_node.next\n",
    "        del_node.next = None\n",
    "    return head\n",
    "\n",
    "# test delete mid\n",
    "test_list1 = make_node_list([1, 2, 3, 4, 5])\n",
    "print_node_list(removeMidNode(test_list))\n",
    "test_list2 = make_node_list([1, 2, 3, 4, 5])\n",
    "print_node_list(removeByRatio(test_list2, 2, 5)) "
   ]
  },
  {
   "cell_type": "markdown",
   "metadata": {},
   "source": [
    "### 反转单向链表（很简单的题，就不多说了）"
   ]
  },
  {
   "cell_type": "code",
   "execution_count": 3,
   "metadata": {},
   "outputs": [
    {
     "name": "stdout",
     "output_type": "stream",
     "text": [
      "5 4 3 2 1 \n",
      "5 4 3 2 1 \n"
     ]
    }
   ],
   "source": [
    "def reverseList(head):\n",
    "    if head is None:\n",
    "        return head\n",
    "    pre_node = None  # 注意初始化的值，否则会有bug哈\n",
    "    cur_node = head\n",
    "    while cur_node is not None:\n",
    "        next_node = cur_node.next\n",
    "        cur_node.next = pre_node\n",
    "        pre_node = cur_node\n",
    "        cur_node = next_node\n",
    "    return pre_node  \n",
    "\n",
    "\n",
    "def reverstListRecur(head):\n",
    "    \"\"\"递归版本\"\"\"\n",
    "    if head.next is None:\n",
    "        return head\n",
    "    last_node = reverstListRecur(head.next)\n",
    "    head.next.next = head\n",
    "    head.next = None\n",
    "    return last_node\n",
    "\n",
    "\n",
    "# test reverse\n",
    "test_list1 = make_node_list([1, 2, 3, 4, 5])\n",
    "print_node_list(reverseList(test_list1))\n",
    "test_list2 = make_node_list([1, 2, 3, 4, 5])\n",
    "print_node_list(reverstListRecur(test_list2))"
   ]
  },
  {
   "cell_type": "markdown",
   "metadata": {},
   "source": [
    "### 反转部分单向链表\n",
    "    - 给定一个单向链表的头节点head，以及两个整数from和to，在单向链表上把第from个节点到第to个节点这一部分进行反转"
   ]
  },
  {
   "cell_type": "code",
   "execution_count": 22,
   "metadata": {},
   "outputs": [
    {
     "name": "stdout",
     "output_type": "stream",
     "text": [
      "1 4 3 2 5 \n"
     ]
    }
   ],
   "source": [
    "def reversePart(head, from_count, to_count):\n",
    "    \"\"\"\n",
    "    用dummy_head简化反转链表头部时的操作\n",
    "    参数有效性检查\n",
    "    重点是找到part链表的前驱和后继节点，后面的就简单了\n",
    "    \"\"\"\n",
    "    dummy_head = Node(-1, head)\n",
    "    \n",
    "    cur_node = head\n",
    "    length = 0\n",
    "    pre_node = dummy_head\n",
    "    post_node = dummy_head\n",
    "    while cur_node is not None:\n",
    "        length += 1\n",
    "        # 求长度的时候直接找到前驱和后继节点\n",
    "        pre_node = cur_node if length == from_count - 1 else pre_node\n",
    "        post_node = cur_node if length == to_count + 1 else post_node\n",
    "        cur_node = cur_node.next\n",
    "    if head is None or from_count < 1 or to_count < from_count or to_count > length:\n",
    "        return head\n",
    "    \n",
    "    cur_node = pre_node.next\n",
    "    part_pre_node = post_node  # 直接连上最后面的\n",
    "    while cur_node != post_node:\n",
    "        part_next_node = cur_node.next\n",
    "        cur_node.next = part_pre_node\n",
    "        part_pre_node = cur_node\n",
    "        cur_node = part_next_node\n",
    "    # 此时part链表头是part_pre_node\n",
    "    pre_node.next = part_pre_node\n",
    "    return dummy_head.next\n",
    "\n",
    "\n",
    "# test reversePart\n",
    "test_list1 = make_node_list([1, 2, 3, 4, 5])\n",
    "print_node_list(reversePart(test_list1, 2, 4))"
   ]
  },
  {
   "cell_type": "markdown",
   "metadata": {},
   "source": [
    "### 环形单链表的约瑟夫问题"
   ]
  },
  {
   "cell_type": "code",
   "execution_count": 23,
   "metadata": {},
   "outputs": [],
   "source": [
    "def josephusKill1(head, m):\n",
    "    \"\"\"简单解法，意义清晰，但是复杂度较高，O(m*n)，简单解法过于复杂，后面二刷再研究\"\"\"\n",
    "    if head is None or head.next == head or m < 1:\n",
    "        return head\n",
    "    # 找到head的前驱\n",
    "    last_node = head\n",
    "    while last_node.next != head:\n",
    "        last_node = last_node.next\n",
    "    # 准备完毕，开始报数\n",
    "    count = 0\n",
    "    while head != last_node:\n",
    "        count += 1\n",
    "        if count == m:\n",
    "            del_node = head\n",
    "            last_node.next = head.next\n",
    "            del_node.next = None\n",
    "            count = 0\n",
    "        else:\n",
    "            last = last.next\n",
    "        head = last.next\n",
    "    return head"
   ]
  },
  {
   "cell_type": "markdown",
   "metadata": {},
   "source": [
    "### 判断一个链表是否为会问结构\n",
    "    - 方法1：借助栈，但是空间复杂度此时为O(n)\n",
    "    - 方法2：也借助栈，但是只压后一半，然后和前一半的元素依次比较，但是空间复杂度仍为O(n)\n",
    "    - 方法3：不借住栈，空间复杂度为O(1)，用类似于 对撞指针的思想来处理"
   ]
  },
  {
   "cell_type": "code",
   "execution_count": 25,
   "metadata": {},
   "outputs": [
    {
     "name": "stdout",
     "output_type": "stream",
     "text": [
      "True\n",
      "False\n",
      "True\n"
     ]
    }
   ],
   "source": [
    "def isPalindrome1(head):\n",
    "    stack = []\n",
    "    cur_node = head\n",
    "    while cur_node is not None:\n",
    "        stack.append(cur_node)  # 压栈\n",
    "        cur_node = cur_node.next\n",
    "    while len(stack):\n",
    "        pop_val = stack.pop().val  # 再出栈，从链表头开始比较\n",
    "        if pop_val != head.val:\n",
    "            return False\n",
    "        head = head.next\n",
    "    return True\n",
    "\n",
    "\n",
    "def isPalindrome2(head):\n",
    "    slow = fast = head\n",
    "    while fast.next is not None and fast.next.next is not None:\n",
    "        slow = slow.next\n",
    "        fast = fast.next.next\n",
    "    # 此时slow后面的元素需要入栈\n",
    "    stack = []\n",
    "    cur_node = slow.next\n",
    "    while cur_node is not None:\n",
    "        stack.append(cur_node)\n",
    "        cur_node = cur_node.next\n",
    "    # 出栈\n",
    "    while len(stack):\n",
    "        if head.val != stack.pop().val:\n",
    "            return False\n",
    "        head = head.next\n",
    "    return True\n",
    "\n",
    "\n",
    "def isPalindrome3(head):\n",
    "    \n",
    "    def reverse_nodelist(head, tail=None):\n",
    "        cur_node = head\n",
    "        pre_node = tail\n",
    "        while cur_node is not None:\n",
    "            next_node = cur_node.next\n",
    "            cur_node.next = pre_node\n",
    "            pre_node = cur_node\n",
    "            cur_node = next_node\n",
    "        return pre_node\n",
    "    \n",
    "    if head is None:\n",
    "        return True\n",
    "    \n",
    "    # 先反转后半部分链表\n",
    "    slow = fast = head\n",
    "    slow_pre_node = None # 用于恢复原链表的节点\n",
    "    while fast.next is not None and fast.next.next is not None:\n",
    "        slow_pre_node = slow\n",
    "        slow = slow.next\n",
    "        fast = fast.next.next\n",
    "    # 包括slow后的节点进行反转\n",
    "    reversed_part_node = reverse_nodelist(slow.next, slow)\n",
    "    slow.next = None  # 如果不复原原链表的话是不用写这句的，但是要复原，None作为一个复原链表的哨兵所以必须要存在\n",
    "    # 对撞指针\n",
    "    left_node = head\n",
    "    right_node = reversed_part_node\n",
    "    res = True\n",
    "    while left_node is not None and right_node is not None:\n",
    "        if left_node.val != right_node.val:\n",
    "            res = False\n",
    "            break\n",
    "        left_node = left_node.next\n",
    "        right_node = right_node.next\n",
    "    # 恢复原链表\n",
    "    new_reversed_part_node = reverse_nodelist(reversed_part_node)\n",
    "    slow_pre_node.next = new_reversed_part_node\n",
    "    return res\n",
    "\n",
    "\n",
    "# test\n",
    "test_list1 = make_node_list([1, 2, 2, 1])\n",
    "print(isPalindrome1(test_list1))\n",
    "test_list2 = make_node_list([1, 2, 2, 3])\n",
    "print(isPalindrome2(test_list2))\n",
    "test_list3 = make_node_list([1, 2, 3, 2, 1])\n",
    "print(isPalindrome3(test_list3))"
   ]
  },
  {
   "cell_type": "markdown",
   "metadata": {},
   "source": [
    "### 将单向链表按某值划分成左边小、中间相等、右边大的形式\n",
    "    - 方法1：最容易想到的方法，借助数组，用三路快排的partition操作完成本题，但是空间复杂度为O(n)，并且保证不了稳定性，因为快排是非稳定排序\n",
    "    - 方法2：完美的解法：用三个头节点分别表示小于、等于以及大于pivot的链表，遍历完一次后三个链表已经被填好了相应的值，然后拼接一下就可以了。空间复杂度：O(1)，且能保证元素间的稳定性。该方法的意义在于能够做到节点间的穿针引线，很有意思；另外dummy_head的思想也在其中，不需特殊考虑头节点的插入了~"
   ]
  },
  {
   "cell_type": "code",
   "execution_count": 32,
   "metadata": {},
   "outputs": [
    {
     "name": "stdout",
     "output_type": "stream",
     "text": [
      "0 1 5 4 9 \n",
      "0 1 4 5 9 \n"
     ]
    }
   ],
   "source": [
    "def listPartition1(head, pivot):\n",
    "    if head is None:\n",
    "        return head\n",
    "    record = []\n",
    "    cur_node = head\n",
    "    while cur_node is not None:\n",
    "        record.append(cur_node)\n",
    "        cur_node = cur_node.next\n",
    "    # 开始三路partition\n",
    "    lt = -1\n",
    "    gt = len(record)\n",
    "    i = 0\n",
    "    while i < gt:\n",
    "        if record[i].val < pivot:\n",
    "            lt += 1\n",
    "            record[lt], record[i] = record[i], record[lt]\n",
    "            i += 1\n",
    "        elif record[i].val > pivot:\n",
    "            gt -= 1\n",
    "            record[gt], record[i] = record[i], record[gt]\n",
    "        else:\n",
    "            i += 1\n",
    "    # 重新从头到尾连接一下节点即可\n",
    "    for i in range(len(record)):\n",
    "        if i != len(record) - 1:\n",
    "            record[i].next = record[i + 1]\n",
    "        else:\n",
    "            record[i].next = None\n",
    "    return record[0]\n",
    "\n",
    "\n",
    "def listPartition2(head, pivot):\n",
    "    if head is None:\n",
    "        return head\n",
    "    \n",
    "    dummy_lt = Node(-1)\n",
    "    cur_lt = dummy_lt\n",
    "    dummy_eq = Node(-1)\n",
    "    cur_eq = dummy_eq\n",
    "    dummy_gt = Node(-1)\n",
    "    cur_gt = dummy_gt\n",
    "    cur_node = head\n",
    "    # 连接\n",
    "    while cur_node is not None:\n",
    "        next_node = cur_node.next\n",
    "        if cur_node.val < pivot:\n",
    "            cur_lt.next = cur_node\n",
    "            cur_lt = cur_lt.next\n",
    "        elif cur_node.val == pivot:\n",
    "            cur_eq.next = cur_node\n",
    "            cur_eq = cur_eq.next\n",
    "        else:\n",
    "            cur_gt.next = cur_node\n",
    "            cur_gt = cur_gt.next\n",
    "        cur_node.next = None  # 断开，要不然会产生两组node指向同一个cur_node.next，所以前面要记录cur_node的下一个节点\n",
    "        cur_node = next_node\n",
    "    # 拼接\n",
    "    dummy_head = Node(-1)\n",
    "    cur_node = dummy_head\n",
    "    if dummy_lt.next is not None:\n",
    "        cur_node.next = dummy_lt.next\n",
    "        cur_node = cur_lt\n",
    "    if dummy_eq.next is not None:\n",
    "        cur_node.next = dummy_eq.next\n",
    "        cur_node = cur_eq\n",
    "    if dummy_gt.next is not None:\n",
    "        cur_node.next = dummy_gt.next\n",
    "        cur_node = cur_gt\n",
    "    cur_node.next = None\n",
    "    return dummy_head.next\n",
    "    \n",
    "\n",
    "# test\n",
    "test_list1 = make_node_list([0, 1, 9, 4, 5])\n",
    "print_node_list(listPartition1(test_list1, 6))\n",
    "test_list2 = make_node_list([0, 1, 9, 4, 5])\n",
    "print_node_list(listPartition2(test_list2, 6))"
   ]
  },
  {
   "cell_type": "code",
   "execution_count": null,
   "metadata": {},
   "outputs": [],
   "source": []
  }
 ],
 "metadata": {
  "kernelspec": {
   "display_name": "general",
   "language": "python",
   "name": "general"
  },
  "language_info": {
   "codemirror_mode": {
    "name": "ipython",
    "version": 3
   },
   "file_extension": ".py",
   "mimetype": "text/x-python",
   "name": "python",
   "nbconvert_exporter": "python",
   "pygments_lexer": "ipython3",
   "version": "3.7.7"
  }
 },
 "nbformat": 4,
 "nbformat_minor": 4
}
